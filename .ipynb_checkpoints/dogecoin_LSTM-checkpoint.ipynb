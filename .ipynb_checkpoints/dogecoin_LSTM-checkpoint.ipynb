{
 "cells": [
  {
   "cell_type": "code",
   "execution_count": 1,
   "metadata": {},
   "outputs": [],
   "source": [
    "import pandas as pd"
   ]
  },
  {
   "cell_type": "code",
   "execution_count": 2,
   "metadata": {},
   "outputs": [],
   "source": [
    "df1 = pd.read_csv(\"dogecoin_data_uptodate.csv\")"
   ]
  },
  {
   "cell_type": "code",
   "execution_count": 3,
   "metadata": {},
   "outputs": [
    {
     "data": {
      "text/html": [
       "<div>\n",
       "<style scoped>\n",
       "    .dataframe tbody tr th:only-of-type {\n",
       "        vertical-align: middle;\n",
       "    }\n",
       "\n",
       "    .dataframe tbody tr th {\n",
       "        vertical-align: top;\n",
       "    }\n",
       "\n",
       "    .dataframe thead th {\n",
       "        text-align: right;\n",
       "    }\n",
       "</style>\n",
       "<table border=\"1\" class=\"dataframe\">\n",
       "  <thead>\n",
       "    <tr style=\"text-align: right;\">\n",
       "      <th></th>\n",
       "      <th>Date</th>\n",
       "      <th>Open*</th>\n",
       "      <th>High</th>\n",
       "      <th>Low</th>\n",
       "      <th>Close**</th>\n",
       "      <th>Volume</th>\n",
       "      <th>Market Cap</th>\n",
       "    </tr>\n",
       "  </thead>\n",
       "  <tbody>\n",
       "    <tr>\n",
       "      <th>0</th>\n",
       "      <td>Nov 16, 2019</td>\n",
       "      <td>0.002657</td>\n",
       "      <td>0.002675</td>\n",
       "      <td>0.002636</td>\n",
       "      <td>0.002669</td>\n",
       "      <td>71531457.0</td>\n",
       "      <td>325863006</td>\n",
       "    </tr>\n",
       "    <tr>\n",
       "      <th>1</th>\n",
       "      <td>Nov 15, 2019</td>\n",
       "      <td>0.002682</td>\n",
       "      <td>0.002689</td>\n",
       "      <td>0.002609</td>\n",
       "      <td>0.002657</td>\n",
       "      <td>78888251.0</td>\n",
       "      <td>324279637</td>\n",
       "    </tr>\n",
       "    <tr>\n",
       "      <th>2</th>\n",
       "      <td>Nov 14, 2019</td>\n",
       "      <td>0.002694</td>\n",
       "      <td>0.002698</td>\n",
       "      <td>0.002642</td>\n",
       "      <td>0.002680</td>\n",
       "      <td>77359949.0</td>\n",
       "      <td>327123523</td>\n",
       "    </tr>\n",
       "    <tr>\n",
       "      <th>3</th>\n",
       "      <td>Nov 13, 2019</td>\n",
       "      <td>0.002723</td>\n",
       "      <td>0.002725</td>\n",
       "      <td>0.002665</td>\n",
       "      <td>0.002698</td>\n",
       "      <td>80974477.0</td>\n",
       "      <td>329198491</td>\n",
       "    </tr>\n",
       "    <tr>\n",
       "      <th>4</th>\n",
       "      <td>Nov 12, 2019</td>\n",
       "      <td>0.002714</td>\n",
       "      <td>0.002735</td>\n",
       "      <td>0.002679</td>\n",
       "      <td>0.002725</td>\n",
       "      <td>72506822.0</td>\n",
       "      <td>332513142</td>\n",
       "    </tr>\n",
       "    <tr>\n",
       "      <th>5</th>\n",
       "      <td>Nov 11, 2019</td>\n",
       "      <td>0.002775</td>\n",
       "      <td>0.002780</td>\n",
       "      <td>0.002669</td>\n",
       "      <td>0.002715</td>\n",
       "      <td>84608148.0</td>\n",
       "      <td>331233144</td>\n",
       "    </tr>\n",
       "    <tr>\n",
       "      <th>6</th>\n",
       "      <td>Nov 10, 2019</td>\n",
       "      <td>0.002712</td>\n",
       "      <td>0.002785</td>\n",
       "      <td>0.002687</td>\n",
       "      <td>0.002775</td>\n",
       "      <td>96734959.0</td>\n",
       "      <td>338534498</td>\n",
       "    </tr>\n",
       "    <tr>\n",
       "      <th>7</th>\n",
       "      <td>Nov 09, 2019</td>\n",
       "      <td>0.002654</td>\n",
       "      <td>0.002742</td>\n",
       "      <td>0.002650</td>\n",
       "      <td>0.002713</td>\n",
       "      <td>93120071.0</td>\n",
       "      <td>330918440</td>\n",
       "    </tr>\n",
       "    <tr>\n",
       "      <th>8</th>\n",
       "      <td>Nov 08, 2019</td>\n",
       "      <td>0.002723</td>\n",
       "      <td>0.002731</td>\n",
       "      <td>0.002603</td>\n",
       "      <td>0.002653</td>\n",
       "      <td>88039087.0</td>\n",
       "      <td>323568240</td>\n",
       "    </tr>\n",
       "    <tr>\n",
       "      <th>9</th>\n",
       "      <td>Nov 07, 2019</td>\n",
       "      <td>0.002628</td>\n",
       "      <td>0.002734</td>\n",
       "      <td>0.002608</td>\n",
       "      <td>0.002725</td>\n",
       "      <td>97141368.0</td>\n",
       "      <td>332378117</td>\n",
       "    </tr>\n",
       "  </tbody>\n",
       "</table>\n",
       "</div>"
      ],
      "text/plain": [
       "           Date     Open*      High       Low   Close**      Volume  \\\n",
       "0  Nov 16, 2019  0.002657  0.002675  0.002636  0.002669  71531457.0   \n",
       "1  Nov 15, 2019  0.002682  0.002689  0.002609  0.002657  78888251.0   \n",
       "2  Nov 14, 2019  0.002694  0.002698  0.002642  0.002680  77359949.0   \n",
       "3  Nov 13, 2019  0.002723  0.002725  0.002665  0.002698  80974477.0   \n",
       "4  Nov 12, 2019  0.002714  0.002735  0.002679  0.002725  72506822.0   \n",
       "5  Nov 11, 2019  0.002775  0.002780  0.002669  0.002715  84608148.0   \n",
       "6  Nov 10, 2019  0.002712  0.002785  0.002687  0.002775  96734959.0   \n",
       "7  Nov 09, 2019  0.002654  0.002742  0.002650  0.002713  93120071.0   \n",
       "8  Nov 08, 2019  0.002723  0.002731  0.002603  0.002653  88039087.0   \n",
       "9  Nov 07, 2019  0.002628  0.002734  0.002608  0.002725  97141368.0   \n",
       "\n",
       "   Market Cap  \n",
       "0   325863006  \n",
       "1   324279637  \n",
       "2   327123523  \n",
       "3   329198491  \n",
       "4   332513142  \n",
       "5   331233144  \n",
       "6   338534498  \n",
       "7   330918440  \n",
       "8   323568240  \n",
       "9   332378117  "
      ]
     },
     "execution_count": 3,
     "metadata": {},
     "output_type": "execute_result"
    }
   ],
   "source": [
    "df1.head(10)"
   ]
  },
  {
   "cell_type": "code",
   "execution_count": 4,
   "metadata": {},
   "outputs": [
    {
     "ename": "ModuleNotFoundError",
     "evalue": "No module named 'tensorflow'",
     "output_type": "error",
     "traceback": [
      "\u001b[0;31m---------------------------------------------------------------------------\u001b[0m",
      "\u001b[0;31mModuleNotFoundError\u001b[0m                       Traceback (most recent call last)",
      "\u001b[0;32m<ipython-input-4-70f89c7b771f>\u001b[0m in \u001b[0;36m<module>\u001b[0;34m\u001b[0m\n\u001b[1;32m      2\u001b[0m \u001b[0;32mimport\u001b[0m \u001b[0mmatplotlib\u001b[0m\u001b[0;34m.\u001b[0m\u001b[0mpyplot\u001b[0m \u001b[0;32mas\u001b[0m \u001b[0mplt\u001b[0m\u001b[0;34m\u001b[0m\u001b[0;34m\u001b[0m\u001b[0m\n\u001b[1;32m      3\u001b[0m \u001b[0;32mimport\u001b[0m \u001b[0mmath\u001b[0m\u001b[0;34m\u001b[0m\u001b[0;34m\u001b[0m\u001b[0m\n\u001b[0;32m----> 4\u001b[0;31m \u001b[0;32mimport\u001b[0m \u001b[0mtensorflow\u001b[0m \u001b[0;32mas\u001b[0m \u001b[0mtf\u001b[0m\u001b[0;34m\u001b[0m\u001b[0;34m\u001b[0m\u001b[0m\n\u001b[0m\u001b[1;32m      5\u001b[0m \u001b[0;32mfrom\u001b[0m \u001b[0msklearn\u001b[0m\u001b[0;34m.\u001b[0m\u001b[0mpreprocessing\u001b[0m \u001b[0;32mimport\u001b[0m \u001b[0mMinMaxScaler\u001b[0m\u001b[0;34m\u001b[0m\u001b[0;34m\u001b[0m\u001b[0m\n\u001b[1;32m      6\u001b[0m \u001b[0;32mfrom\u001b[0m \u001b[0msklearn\u001b[0m\u001b[0;34m.\u001b[0m\u001b[0mmetrics\u001b[0m \u001b[0;32mimport\u001b[0m \u001b[0mmean_squared_error\u001b[0m\u001b[0;34m\u001b[0m\u001b[0;34m\u001b[0m\u001b[0m\n",
      "\u001b[0;31mModuleNotFoundError\u001b[0m: No module named 'tensorflow'"
     ]
    }
   ],
   "source": [
    "import numpy as np\n",
    "import matplotlib.pyplot as plt\n",
    "import math\n",
    "import tensorflow as tf\n",
    "from sklearn.preprocessing import MinMaxScaler\n",
    "from sklearn.metrics import mean_squared_error\n",
    "\n",
    "from keras.models import Sequential\n",
    "from keras.layers import Dense\n",
    "from keras.layers import LSTM"
   ]
  },
  {
   "cell_type": "code",
   "execution_count": 42,
   "metadata": {},
   "outputs": [],
   "source": [
    "df = df1.reset_index(drop=True)"
   ]
  },
  {
   "cell_type": "code",
   "execution_count": 43,
   "metadata": {
    "scrolled": true
   },
   "outputs": [
    {
     "data": {
      "text/html": [
       "<div>\n",
       "<style scoped>\n",
       "    .dataframe tbody tr th:only-of-type {\n",
       "        vertical-align: middle;\n",
       "    }\n",
       "\n",
       "    .dataframe tbody tr th {\n",
       "        vertical-align: top;\n",
       "    }\n",
       "\n",
       "    .dataframe thead th {\n",
       "        text-align: right;\n",
       "    }\n",
       "</style>\n",
       "<table border=\"1\" class=\"dataframe\">\n",
       "  <thead>\n",
       "    <tr style=\"text-align: right;\">\n",
       "      <th></th>\n",
       "      <th>Date</th>\n",
       "      <th>Open*</th>\n",
       "      <th>High</th>\n",
       "      <th>Low</th>\n",
       "      <th>Close**</th>\n",
       "      <th>Volume</th>\n",
       "      <th>Market Cap</th>\n",
       "    </tr>\n",
       "  </thead>\n",
       "  <tbody>\n",
       "    <tr>\n",
       "      <th>0</th>\n",
       "      <td>Nov 16, 2019</td>\n",
       "      <td>0.002657</td>\n",
       "      <td>0.002675</td>\n",
       "      <td>0.002636</td>\n",
       "      <td>0.002669</td>\n",
       "      <td>71531457.0</td>\n",
       "      <td>325863006</td>\n",
       "    </tr>\n",
       "    <tr>\n",
       "      <th>1</th>\n",
       "      <td>Nov 15, 2019</td>\n",
       "      <td>0.002682</td>\n",
       "      <td>0.002689</td>\n",
       "      <td>0.002609</td>\n",
       "      <td>0.002657</td>\n",
       "      <td>78888251.0</td>\n",
       "      <td>324279637</td>\n",
       "    </tr>\n",
       "    <tr>\n",
       "      <th>2</th>\n",
       "      <td>Nov 14, 2019</td>\n",
       "      <td>0.002694</td>\n",
       "      <td>0.002698</td>\n",
       "      <td>0.002642</td>\n",
       "      <td>0.002680</td>\n",
       "      <td>77359949.0</td>\n",
       "      <td>327123523</td>\n",
       "    </tr>\n",
       "    <tr>\n",
       "      <th>3</th>\n",
       "      <td>Nov 13, 2019</td>\n",
       "      <td>0.002723</td>\n",
       "      <td>0.002725</td>\n",
       "      <td>0.002665</td>\n",
       "      <td>0.002698</td>\n",
       "      <td>80974477.0</td>\n",
       "      <td>329198491</td>\n",
       "    </tr>\n",
       "    <tr>\n",
       "      <th>4</th>\n",
       "      <td>Nov 12, 2019</td>\n",
       "      <td>0.002714</td>\n",
       "      <td>0.002735</td>\n",
       "      <td>0.002679</td>\n",
       "      <td>0.002725</td>\n",
       "      <td>72506822.0</td>\n",
       "      <td>332513142</td>\n",
       "    </tr>\n",
       "    <tr>\n",
       "      <th>5</th>\n",
       "      <td>Nov 11, 2019</td>\n",
       "      <td>0.002775</td>\n",
       "      <td>0.002780</td>\n",
       "      <td>0.002669</td>\n",
       "      <td>0.002715</td>\n",
       "      <td>84608148.0</td>\n",
       "      <td>331233144</td>\n",
       "    </tr>\n",
       "    <tr>\n",
       "      <th>6</th>\n",
       "      <td>Nov 10, 2019</td>\n",
       "      <td>0.002712</td>\n",
       "      <td>0.002785</td>\n",
       "      <td>0.002687</td>\n",
       "      <td>0.002775</td>\n",
       "      <td>96734959.0</td>\n",
       "      <td>338534498</td>\n",
       "    </tr>\n",
       "    <tr>\n",
       "      <th>7</th>\n",
       "      <td>Nov 09, 2019</td>\n",
       "      <td>0.002654</td>\n",
       "      <td>0.002742</td>\n",
       "      <td>0.002650</td>\n",
       "      <td>0.002713</td>\n",
       "      <td>93120071.0</td>\n",
       "      <td>330918440</td>\n",
       "    </tr>\n",
       "    <tr>\n",
       "      <th>8</th>\n",
       "      <td>Nov 08, 2019</td>\n",
       "      <td>0.002723</td>\n",
       "      <td>0.002731</td>\n",
       "      <td>0.002603</td>\n",
       "      <td>0.002653</td>\n",
       "      <td>88039087.0</td>\n",
       "      <td>323568240</td>\n",
       "    </tr>\n",
       "    <tr>\n",
       "      <th>9</th>\n",
       "      <td>Nov 07, 2019</td>\n",
       "      <td>0.002628</td>\n",
       "      <td>0.002734</td>\n",
       "      <td>0.002608</td>\n",
       "      <td>0.002725</td>\n",
       "      <td>97141368.0</td>\n",
       "      <td>332378117</td>\n",
       "    </tr>\n",
       "  </tbody>\n",
       "</table>\n",
       "</div>"
      ],
      "text/plain": [
       "           Date     Open*      High       Low   Close**      Volume  \\\n",
       "0  Nov 16, 2019  0.002657  0.002675  0.002636  0.002669  71531457.0   \n",
       "1  Nov 15, 2019  0.002682  0.002689  0.002609  0.002657  78888251.0   \n",
       "2  Nov 14, 2019  0.002694  0.002698  0.002642  0.002680  77359949.0   \n",
       "3  Nov 13, 2019  0.002723  0.002725  0.002665  0.002698  80974477.0   \n",
       "4  Nov 12, 2019  0.002714  0.002735  0.002679  0.002725  72506822.0   \n",
       "5  Nov 11, 2019  0.002775  0.002780  0.002669  0.002715  84608148.0   \n",
       "6  Nov 10, 2019  0.002712  0.002785  0.002687  0.002775  96734959.0   \n",
       "7  Nov 09, 2019  0.002654  0.002742  0.002650  0.002713  93120071.0   \n",
       "8  Nov 08, 2019  0.002723  0.002731  0.002603  0.002653  88039087.0   \n",
       "9  Nov 07, 2019  0.002628  0.002734  0.002608  0.002725  97141368.0   \n",
       "\n",
       "   Market Cap  \n",
       "0   325863006  \n",
       "1   324279637  \n",
       "2   327123523  \n",
       "3   329198491  \n",
       "4   332513142  \n",
       "5   331233144  \n",
       "6   338534498  \n",
       "7   330918440  \n",
       "8   323568240  \n",
       "9   332378117  "
      ]
     },
     "execution_count": 43,
     "metadata": {},
     "output_type": "execute_result"
    }
   ],
   "source": [
    "df.head(10)"
   ]
  },
  {
   "cell_type": "code",
   "execution_count": 44,
   "metadata": {},
   "outputs": [
    {
     "data": {
      "text/plain": [
       "Index(['Date', 'Open*', 'High', 'Low', 'Close**', 'Volume', 'Market Cap'], dtype='object')"
      ]
     },
     "execution_count": 44,
     "metadata": {},
     "output_type": "execute_result"
    }
   ],
   "source": [
    "df.columns"
   ]
  },
  {
   "cell_type": "code",
   "execution_count": 45,
   "metadata": {},
   "outputs": [],
   "source": [
    "df= df[[ 'Open*']]"
   ]
  },
  {
   "cell_type": "code",
   "execution_count": 46,
   "metadata": {},
   "outputs": [
    {
     "data": {
      "text/plain": [
       "array([[0.002657],\n",
       "       [0.002682],\n",
       "       [0.002694],\n",
       "       ...,\n",
       "       [0.000207],\n",
       "       [0.000299],\n",
       "       [0.000559]], dtype=float32)"
      ]
     },
     "execution_count": 46,
     "metadata": {},
     "output_type": "execute_result"
    }
   ],
   "source": [
    "dataset = df.values\n",
    "dataset = dataset.astype('float32')\n",
    "dataset"
   ]
  },
  {
   "cell_type": "code",
   "execution_count": 48,
   "metadata": {},
   "outputs": [
    {
     "name": "stdout",
     "output_type": "stream",
     "text": [
      "1514 649\n"
     ]
    }
   ],
   "source": [
    "train_size = int(len(dataset) * 0.7)\n",
    "test_size = len(dataset) - train_size\n",
    "train, test = dataset[0:train_size, :], dataset[train_size:len(dataset), :]\n",
    "print(len(train), len(test))"
   ]
  },
  {
   "cell_type": "code",
   "execution_count": 49,
   "metadata": {},
   "outputs": [],
   "source": [
    "def create_dataset(dataset, look_back=1):\n",
    "    dataX, dataY = [], []\n",
    "    for i in range(len(dataset)-look_back-1):\n",
    "        a = dataset[i:(i+look_back), 0]\n",
    "        dataX.append(a)\n",
    "        dataY.append(dataset[i + look_back, 0])\n",
    "    return np.array(dataX), np.array(dataY)"
   ]
  },
  {
   "cell_type": "code",
   "execution_count": 50,
   "metadata": {},
   "outputs": [],
   "source": [
    "look_back = 10\n",
    "trainX, trainY = create_dataset(train, look_back=look_back)\n",
    "testX, testY = create_dataset(test, look_back=look_back)"
   ]
  },
  {
   "cell_type": "code",
   "execution_count": 51,
   "metadata": {},
   "outputs": [
    {
     "data": {
      "text/plain": [
       "array([[0.002657, 0.002682, 0.002694, ..., 0.002654, 0.002723, 0.002628],\n",
       "       [0.002682, 0.002694, 0.002723, ..., 0.002723, 0.002628, 0.002623],\n",
       "       [0.002694, 0.002723, 0.002714, ..., 0.002628, 0.002623, 0.002613],\n",
       "       ...,\n",
       "       [0.000121, 0.000122, 0.000118, ..., 0.000123, 0.000121, 0.000124],\n",
       "       [0.000122, 0.000118, 0.000118, ..., 0.000121, 0.000124, 0.000122],\n",
       "       [0.000118, 0.000118, 0.000121, ..., 0.000124, 0.000122, 0.000123]],\n",
       "      dtype=float32)"
      ]
     },
     "execution_count": 51,
     "metadata": {},
     "output_type": "execute_result"
    }
   ],
   "source": [
    "trainX"
   ]
  },
  {
   "cell_type": "code",
   "execution_count": 52,
   "metadata": {},
   "outputs": [
    {
     "data": {
      "text/plain": [
       "array([0.002623, 0.002613, 0.002635, ..., 0.000122, 0.000123, 0.000122],\n",
       "      dtype=float32)"
      ]
     },
     "execution_count": 52,
     "metadata": {},
     "output_type": "execute_result"
    }
   ],
   "source": [
    "trainY"
   ]
  },
  {
   "cell_type": "code",
   "execution_count": 53,
   "metadata": {},
   "outputs": [],
   "source": [
    "# reshape input to be [samples, time steps, features]\n",
    "trainX = np.reshape(trainX, (trainX.shape[0], 1, trainX.shape[1]))\n",
    "testX = np.reshape(testX, (testX.shape[0], 1, testX.shape[1]))"
   ]
  },
  {
   "cell_type": "code",
   "execution_count": 54,
   "metadata": {},
   "outputs": [
    {
     "name": "stdout",
     "output_type": "stream",
     "text": [
      "Epoch 1/100\n",
      " - 1s - loss: 6.4994e-06\n",
      "Epoch 2/100\n",
      " - 0s - loss: 5.0012e-06\n",
      "Epoch 3/100\n",
      " - 0s - loss: 4.6908e-06\n",
      "Epoch 4/100\n",
      " - 0s - loss: 4.5861e-06\n",
      "Epoch 5/100\n",
      " - 0s - loss: 4.4105e-06\n",
      "Epoch 6/100\n",
      " - 0s - loss: 4.2822e-06\n",
      "Epoch 7/100\n",
      " - 0s - loss: 4.1231e-06\n",
      "Epoch 8/100\n",
      " - 0s - loss: 4.0504e-06\n",
      "Epoch 9/100\n",
      " - 0s - loss: 3.9152e-06\n",
      "Epoch 10/100\n",
      " - 0s - loss: 3.7443e-06\n",
      "Epoch 11/100\n",
      " - 0s - loss: 3.6306e-06\n",
      "Epoch 12/100\n",
      " - 0s - loss: 3.5378e-06\n",
      "Epoch 13/100\n",
      " - 0s - loss: 3.4057e-06\n",
      "Epoch 14/100\n",
      " - 0s - loss: 3.3347e-06\n",
      "Epoch 15/100\n",
      " - 0s - loss: 3.1764e-06\n",
      "Epoch 16/100\n",
      " - 0s - loss: 3.0585e-06\n",
      "Epoch 17/100\n",
      " - 0s - loss: 2.9672e-06\n",
      "Epoch 18/100\n",
      " - 0s - loss: 2.8455e-06\n",
      "Epoch 19/100\n",
      " - 0s - loss: 2.7165e-06\n",
      "Epoch 20/100\n",
      " - 0s - loss: 2.5924e-06\n",
      "Epoch 21/100\n",
      " - 0s - loss: 2.4810e-06\n",
      "Epoch 22/100\n",
      " - 0s - loss: 2.3599e-06\n",
      "Epoch 23/100\n",
      " - 0s - loss: 2.2434e-06\n",
      "Epoch 24/100\n",
      " - 0s - loss: 2.1462e-06\n",
      "Epoch 25/100\n",
      " - 0s - loss: 2.0188e-06\n",
      "Epoch 26/100\n",
      " - 0s - loss: 1.9012e-06\n",
      "Epoch 27/100\n",
      " - 0s - loss: 1.7866e-06\n",
      "Epoch 28/100\n",
      " - 0s - loss: 1.6804e-06\n",
      "Epoch 29/100\n",
      " - 0s - loss: 1.5822e-06\n",
      "Epoch 30/100\n",
      " - 0s - loss: 1.4772e-06\n",
      "Epoch 31/100\n",
      " - 0s - loss: 1.3650e-06\n",
      "Epoch 32/100\n",
      " - 0s - loss: 1.2680e-06\n",
      "Epoch 33/100\n",
      " - 0s - loss: 1.1708e-06\n",
      "Epoch 34/100\n",
      " - 0s - loss: 1.0756e-06\n",
      "Epoch 35/100\n",
      " - 0s - loss: 9.8896e-07\n",
      "Epoch 36/100\n",
      " - 0s - loss: 9.1844e-07\n",
      "Epoch 37/100\n",
      " - 0s - loss: 8.3528e-07\n",
      "Epoch 38/100\n",
      " - 0s - loss: 7.6766e-07\n",
      "Epoch 39/100\n",
      " - 0s - loss: 6.9125e-07\n",
      "Epoch 40/100\n",
      " - 0s - loss: 6.3739e-07\n",
      "Epoch 41/100\n",
      " - 0s - loss: 5.7679e-07\n",
      "Epoch 42/100\n",
      " - 0s - loss: 5.3426e-07\n",
      "Epoch 43/100\n",
      " - 0s - loss: 4.9683e-07\n",
      "Epoch 44/100\n",
      " - 0s - loss: 4.4586e-07\n",
      "Epoch 45/100\n",
      " - 0s - loss: 4.0522e-07\n",
      "Epoch 46/100\n",
      " - 0s - loss: 3.7137e-07\n",
      "Epoch 47/100\n",
      " - 0s - loss: 3.4461e-07\n",
      "Epoch 48/100\n",
      " - 0s - loss: 3.1715e-07\n",
      "Epoch 49/100\n",
      " - 0s - loss: 2.9861e-07\n",
      "Epoch 50/100\n",
      " - 0s - loss: 2.8193e-07\n",
      "Epoch 51/100\n",
      " - 0s - loss: 2.6499e-07\n",
      "Epoch 52/100\n",
      " - 0s - loss: 2.5617e-07\n",
      "Epoch 53/100\n",
      " - 0s - loss: 2.4848e-07\n",
      "Epoch 54/100\n",
      " - 0s - loss: 2.3607e-07\n",
      "Epoch 55/100\n",
      " - 0s - loss: 2.2908e-07\n",
      "Epoch 56/100\n",
      " - 0s - loss: 2.3196e-07\n",
      "Epoch 57/100\n",
      " - 0s - loss: 2.2528e-07\n",
      "Epoch 58/100\n",
      " - 0s - loss: 2.2623e-07\n",
      "Epoch 59/100\n",
      " - 0s - loss: 2.1746e-07\n",
      "Epoch 60/100\n",
      " - 0s - loss: 2.1235e-07\n",
      "Epoch 61/100\n",
      " - 0s - loss: 2.1196e-07\n",
      "Epoch 62/100\n",
      " - 0s - loss: 2.0797e-07\n",
      "Epoch 63/100\n",
      " - 0s - loss: 2.0714e-07\n",
      "Epoch 64/100\n",
      " - 0s - loss: 2.0832e-07\n",
      "Epoch 65/100\n",
      " - 0s - loss: 2.0803e-07\n",
      "Epoch 66/100\n",
      " - 0s - loss: 2.0146e-07\n",
      "Epoch 67/100\n",
      " - 0s - loss: 1.9884e-07\n",
      "Epoch 68/100\n",
      " - 0s - loss: 2.0116e-07\n",
      "Epoch 69/100\n",
      " - 0s - loss: 1.9996e-07\n",
      "Epoch 70/100\n",
      " - 0s - loss: 1.9719e-07\n",
      "Epoch 71/100\n",
      " - 0s - loss: 1.9631e-07\n",
      "Epoch 72/100\n",
      " - 0s - loss: 1.9650e-07\n",
      "Epoch 73/100\n",
      " - 0s - loss: 1.9914e-07\n",
      "Epoch 74/100\n",
      " - 0s - loss: 1.9539e-07\n",
      "Epoch 75/100\n",
      " - 0s - loss: 1.9623e-07\n",
      "Epoch 76/100\n",
      " - 0s - loss: 1.9602e-07\n",
      "Epoch 77/100\n",
      " - 0s - loss: 1.9428e-07\n",
      "Epoch 78/100\n",
      " - 0s - loss: 1.9258e-07\n",
      "Epoch 79/100\n",
      " - 0s - loss: 1.9826e-07\n",
      "Epoch 80/100\n",
      " - 0s - loss: 1.9395e-07\n",
      "Epoch 81/100\n",
      " - 0s - loss: 1.9452e-07\n",
      "Epoch 82/100\n",
      " - 0s - loss: 1.9785e-07\n",
      "Epoch 83/100\n",
      " - 0s - loss: 1.9797e-07\n",
      "Epoch 84/100\n",
      " - 0s - loss: 1.9551e-07\n",
      "Epoch 85/100\n",
      " - 0s - loss: 1.8969e-07\n",
      "Epoch 86/100\n",
      " - 0s - loss: 1.9081e-07\n",
      "Epoch 87/100\n",
      " - 0s - loss: 1.9343e-07\n",
      "Epoch 88/100\n",
      " - 0s - loss: 1.9357e-07\n",
      "Epoch 89/100\n",
      " - 0s - loss: 1.9397e-07\n",
      "Epoch 90/100\n",
      " - 0s - loss: 1.9104e-07\n",
      "Epoch 91/100\n",
      " - 0s - loss: 1.9488e-07\n",
      "Epoch 92/100\n",
      " - 0s - loss: 1.9275e-07\n",
      "Epoch 93/100\n",
      " - 0s - loss: 1.8836e-07\n",
      "Epoch 94/100\n",
      " - 0s - loss: 1.8662e-07\n",
      "Epoch 95/100\n",
      " - 0s - loss: 1.9218e-07\n",
      "Epoch 96/100\n",
      " - 0s - loss: 1.9531e-07\n",
      "Epoch 97/100\n",
      " - 0s - loss: 1.9187e-07\n",
      "Epoch 98/100\n",
      " - 0s - loss: 1.9578e-07\n",
      "Epoch 99/100\n",
      " - 0s - loss: 1.9112e-07\n",
      "Epoch 100/100\n",
      " - 0s - loss: 1.8355e-07\n"
     ]
    },
    {
     "data": {
      "text/plain": [
       "<keras.callbacks.History at 0x1b064608f98>"
      ]
     },
     "execution_count": 54,
     "metadata": {},
     "output_type": "execute_result"
    }
   ],
   "source": [
    "model = Sequential()\n",
    "model.add(LSTM(4, input_shape=(1, look_back)))\n",
    "model.add(Dense(1))\n",
    "model.compile(loss='mean_squared_error', optimizer='adam')\n",
    "model.fit(trainX, trainY, epochs=100, batch_size=256, verbose=2)"
   ]
  },
  {
   "cell_type": "code",
   "execution_count": 55,
   "metadata": {},
   "outputs": [],
   "source": [
    "trainPredict = model.predict(trainX)\n",
    "testPredict = model.predict(testX)"
   ]
  },
  {
   "cell_type": "code",
   "execution_count": 56,
   "metadata": {},
   "outputs": [],
   "source": [
    "trainY = scaler.inverse_transform([trainY])\n",
    "testPredict = scaler.inverse_transform(testPredict)\n",
    "testY = scaler.inverse_transform([testY])"
   ]
  },
  {
   "cell_type": "code",
   "execution_count": 57,
   "metadata": {},
   "outputs": [
    {
     "name": "stdout",
     "output_type": "stream",
     "text": [
      "Train Score: 0.00 RMSE\n",
      "Test Score: 0.00 RMSE\n"
     ]
    }
   ],
   "source": [
    "trainScore = math.sqrt(mean_squared_error(trainY[0], trainPredict[:, 0]))\n",
    "print('Train Score: %.2f RMSE' % (trainScore))\n",
    "testScore = math.sqrt(mean_squared_error(testY[0], testPredict[:, 0]))\n",
    "print('Test Score: %.2f RMSE' % (testScore))"
   ]
  },
  {
   "cell_type": "code",
   "execution_count": 58,
   "metadata": {},
   "outputs": [],
   "source": [
    "# shift train predictions for plotting\n",
    "trainPredictPlot = np.empty_like(dataset)\n",
    "trainPredictPlot[:, :] = np.nan\n",
    "trainPredictPlot[look_back:len(trainPredict) + look_back, :] = trainPredict"
   ]
  },
  {
   "cell_type": "code",
   "execution_count": 59,
   "metadata": {},
   "outputs": [],
   "source": [
    "# shift test predictions for plotting\n",
    "testPredictPlot = np.empty_like(dataset)\n",
    "testPredictPlot[:, :] = np.nan\n",
    "testPredictPlot[len(trainPredict) + (look_back * 2) + 1:len(dataset) - 1, :] = testPredict"
   ]
  },
  {
   "cell_type": "code",
   "execution_count": 60,
   "metadata": {},
   "outputs": [
    {
     "data": {
      "image/png": "[encoded data removed]",
      "text/plain": [
       "<Figure size 432x288 with 1 Axes>"
      ]
     },
     "metadata": {
      "needs_background": "light"
     },
     "output_type": "display_data"
    }
   ],
   "source": [
    "plt.plot(df['Open*'], label='Actual')\n",
    "plt.plot(pd.DataFrame(trainPredictPlot, columns=[\"close\"], index=df.index).close, label='Training')\n",
    "plt.plot(pd.DataFrame(testPredictPlot, columns=[\"close\"], index=df.index).close, label='Testing')\n",
    "plt.legend(loc='best')\n",
    "plt.show()"
   ]
  },
  {
   "cell_type": "code",
   "execution_count": null,
   "metadata": {},
   "outputs": [],
   "source": []
  }
 ],
 "metadata": {
  "kernelspec": {
   "display_name": "Python 3",
   "language": "python",
   "name": "python3"
  },
  "language_info": {
   "codemirror_mode": {
    "name": "ipython",
    "version": 3
   },
   "file_extension": ".py",
   "mimetype": "text/x-python",
   "name": "python",
   "nbconvert_exporter": "python",
   "pygments_lexer": "ipython3",
   "version": "3.7.3"
  }
 },
 "nbformat": 4,
 "nbformat_minor": 2
}
